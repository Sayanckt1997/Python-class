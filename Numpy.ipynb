{
  "nbformat": 4,
  "nbformat_minor": 0,
  "metadata": {
    "colab": {
      "provenance": []
    },
    "kernelspec": {
      "name": "python3",
      "display_name": "Python 3"
    },
    "language_info": {
      "name": "python"
    }
  },
  "cells": [
    {
      "cell_type": "markdown",
      "source": [
        "# **NumPy**"
      ],
      "metadata": {
        "id": "rxlsDswfEmaS"
      }
    },
    {
      "cell_type": "markdown",
      "source": [
        "The fundamental package for scientific computing with Python\n",
        "\n",
        "NumPy offers comprehensive mathematical functions, random number generators, linear algebra routines, Fourier transforms, and more."
      ],
      "metadata": {
        "id": "No5EwR3xFJJL"
      }
    },
    {
      "cell_type": "markdown",
      "source": [
        "In this tutorial you will learn:\n",
        "\n",
        "\n",
        "\n",
        "\n",
        "1.   How to Create Array\n",
        "*   np.array method\n",
        "*   using arange() and linspace()\n",
        "\n",
        "*   Generate arrays using ones or zeros\n",
        "\n",
        "\n",
        "\n",
        "\n",
        "2.   Some array operations\n",
        "*   Shape and reshape\n",
        "*   Indexing\n",
        "*   Slicing\n",
        "3.   NumPy math\n",
        "*   Methods of statisticss\n",
        "*   Arithmatic and vector operations\n",
        "*   Matrix operations\n",
        "*   Complex matrices\n",
        "*   Linear algebra with NumPy\n",
        "4.   Advantages of NumPy\n",
        "*   Matrix multiplication using NumPy and for loop\n",
        "*   Matrix transpose\n",
        "\n",
        "\n",
        "\n",
        "\n",
        "\n",
        "\n",
        "\n",
        "\n",
        "\n",
        "\n",
        "\n"
      ],
      "metadata": {
        "id": "EBH-U3IyFXJ4"
      }
    },
    {
      "cell_type": "code",
      "source": [
        "import numpy as np"
      ],
      "metadata": {
        "id": "kAGU4QN6GdWx"
      },
      "execution_count": null,
      "outputs": []
    },
    {
      "cell_type": "markdown",
      "source": [
        "## **How to Create Array**\n",
        "\n",
        "\n",
        "\n"
      ],
      "metadata": {
        "id": "pnsrMrgiGzUg"
      }
    },
    {
      "cell_type": "markdown",
      "source": [
        "### **1. using np.array method**"
      ],
      "metadata": {
        "id": "QdswPRQVvs_0"
      }
    },
    {
      "cell_type": "markdown",
      "source": [
        "### 1D array (vector)"
      ],
      "metadata": {
        "id": "iLAV640zv4Jx"
      }
    },
    {
      "cell_type": "code",
      "source": [
        "# using np.array to convert a list to array\n",
        "\n",
        "x=np.array([1,2,3,4,5,6])\n",
        "print(x)\n",
        "print(type(x))\n",
        "print(x.dtype)"
      ],
      "metadata": {
        "colab": {
          "base_uri": "https://localhost:8080/"
        },
        "id": "0gTa4YjXGxn8",
        "outputId": "ac2adff1-325d-4dcb-804d-52c9ffd0c451"
      },
      "execution_count": null,
      "outputs": [
        {
          "output_type": "stream",
          "name": "stdout",
          "text": [
            "[1 2 3 4 5 6]\n",
            "<class 'numpy.ndarray'>\n",
            "int64\n"
          ]
        }
      ]
    },
    {
      "cell_type": "code",
      "source": [
        "# Conversion of array to list\n",
        "\n",
        "x.tolist()"
      ],
      "metadata": {
        "colab": {
          "base_uri": "https://localhost:8080/"
        },
        "id": "1OCyKhjbQMsJ",
        "outputId": "5840ba8a-df74-40e3-a37a-d83387d6f8db"
      },
      "execution_count": null,
      "outputs": [
        {
          "output_type": "execute_result",
          "data": {
            "text/plain": [
              "[1, 2, 3, 4, 5, 6]"
            ]
          },
          "metadata": {},
          "execution_count": 3
        }
      ]
    },
    {
      "cell_type": "code",
      "source": [
        "x"
      ],
      "metadata": {
        "colab": {
          "base_uri": "https://localhost:8080/"
        },
        "id": "Jcpl9WxzRMwd",
        "outputId": "bb2925d9-c6dd-40e2-ef95-3b03ba1c6e3d"
      },
      "execution_count": null,
      "outputs": [
        {
          "output_type": "execute_result",
          "data": {
            "text/plain": [
              "array([1, 2, 3, 4, 5, 6])"
            ]
          },
          "metadata": {},
          "execution_count": 4
        }
      ]
    },
    {
      "cell_type": "code",
      "source": [
        "x.size"
      ],
      "metadata": {
        "colab": {
          "base_uri": "https://localhost:8080/"
        },
        "id": "s17eA7mH66Ck",
        "outputId": "4f52c4a2-4575-48e5-a119-7a1b951313b5"
      },
      "execution_count": null,
      "outputs": [
        {
          "output_type": "execute_result",
          "data": {
            "text/plain": [
              "6"
            ]
          },
          "metadata": {},
          "execution_count": 5
        }
      ]
    },
    {
      "cell_type": "code",
      "source": [
        "x.ndim"
      ],
      "metadata": {
        "colab": {
          "base_uri": "https://localhost:8080/"
        },
        "id": "ndhumvqF7BMi",
        "outputId": "62595edd-900d-49ac-87ce-9853f2aa9719"
      },
      "execution_count": null,
      "outputs": [
        {
          "output_type": "execute_result",
          "data": {
            "text/plain": [
              "1"
            ]
          },
          "metadata": {},
          "execution_count": 6
        }
      ]
    },
    {
      "cell_type": "code",
      "source": [
        "x.shape"
      ],
      "metadata": {
        "colab": {
          "base_uri": "https://localhost:8080/"
        },
        "id": "6cKURlQM7L8o",
        "outputId": "d64c5352-49fd-44ab-edfc-0b8fc1426aa7"
      },
      "execution_count": null,
      "outputs": [
        {
          "output_type": "execute_result",
          "data": {
            "text/plain": [
              "(6,)"
            ]
          },
          "metadata": {},
          "execution_count": 7
        }
      ]
    },
    {
      "cell_type": "markdown",
      "source": [
        "### 2D array (matrix)"
      ],
      "metadata": {
        "id": "Y2lLho_x82Ad"
      }
    },
    {
      "cell_type": "code",
      "source": [
        "M = np.array ([[1,2,3],[4,5,6]])\n",
        "print(M)"
      ],
      "metadata": {
        "colab": {
          "base_uri": "https://localhost:8080/"
        },
        "id": "x-FLklW08_HS",
        "outputId": "a571b791-c9a9-420a-b5ba-394f120e1336"
      },
      "execution_count": null,
      "outputs": [
        {
          "output_type": "stream",
          "name": "stdout",
          "text": [
            "[[1 2 3]\n",
            " [4 5 6]]\n"
          ]
        }
      ]
    },
    {
      "cell_type": "code",
      "source": [
        "print(\"The dimension of the matrix is\")\n",
        "print(M.ndim)\n",
        "print(\"The number of elements are\")\n",
        "print(M.size)\n",
        "print(\"The shape of the matrix is\")\n",
        "print(M.shape)"
      ],
      "metadata": {
        "colab": {
          "base_uri": "https://localhost:8080/"
        },
        "id": "gBaptPd-9aS4",
        "outputId": "e7155382-c9f4-47d8-f74c-63b734808166"
      },
      "execution_count": null,
      "outputs": [
        {
          "output_type": "stream",
          "name": "stdout",
          "text": [
            "The dimension of the matrix is\n",
            "2\n",
            "The number of elements are\n",
            "6\n",
            "The shape of the matrix is\n",
            "(2, 3)\n"
          ]
        }
      ]
    },
    {
      "cell_type": "markdown",
      "source": [
        "### 3D array (tensor)"
      ],
      "metadata": {
        "id": "gnp3Ukpe--Xt"
      }
    },
    {
      "cell_type": "code",
      "source": [
        "T = np.array ([[[1,2],[3,4]], [[5,6],[7,8]]])\n",
        "print(T)"
      ],
      "metadata": {
        "colab": {
          "base_uri": "https://localhost:8080/"
        },
        "id": "NrMWusZO_CIt",
        "outputId": "83ec1790-0ac2-456f-87c3-05b52afc3b8e"
      },
      "execution_count": null,
      "outputs": [
        {
          "output_type": "stream",
          "name": "stdout",
          "text": [
            "[[[1 2]\n",
            "  [3 4]]\n",
            "\n",
            " [[5 6]\n",
            "  [7 8]]]\n"
          ]
        }
      ]
    },
    {
      "cell_type": "code",
      "source": [
        "print(\"The dimension of the tensor is\")\n",
        "print(T.ndim)\n",
        "print(\"The number of elements are\")\n",
        "print(T.size)\n",
        "print(\"The shape of the tensor is\")\n",
        "print(T.shape)"
      ],
      "metadata": {
        "colab": {
          "base_uri": "https://localhost:8080/"
        },
        "id": "Zi88wQwc_YyP",
        "outputId": "e6931db3-2e7b-41ba-feab-8917b63dfae2"
      },
      "execution_count": null,
      "outputs": [
        {
          "output_type": "stream",
          "name": "stdout",
          "text": [
            "The dimension of the tensor is\n",
            "3\n",
            "The number of elements are\n",
            "8\n",
            "The shape of the tensor is\n",
            "(2, 2, 2)\n"
          ]
        }
      ]
    },
    {
      "cell_type": "code",
      "source": [],
      "metadata": {
        "id": "H9M9IbA7_hA_"
      },
      "execution_count": null,
      "outputs": []
    },
    {
      "cell_type": "markdown",
      "source": [
        "### **2. Generater arrays using arange() and linspace()**\n",
        "### Range of numbers"
      ],
      "metadata": {
        "id": "35PubiJJEQvx"
      }
    },
    {
      "cell_type": "code",
      "source": [
        "# np.arange(start, stop, step)\n",
        "a = np.arange(start=10,stop=30,step=3)\n",
        "print(a)"
      ],
      "metadata": {
        "colab": {
          "base_uri": "https://localhost:8080/"
        },
        "id": "RPxQIihtEguV",
        "outputId": "d3453ca6-1707-4de6-bac4-8047fc7e99d4"
      },
      "execution_count": null,
      "outputs": [
        {
          "output_type": "stream",
          "name": "stdout",
          "text": [
            "[10 13 16 19 22 25 28]\n"
          ]
        }
      ]
    },
    {
      "cell_type": "code",
      "source": [
        "np.arange(2,10,3)"
      ],
      "metadata": {
        "colab": {
          "base_uri": "https://localhost:8080/"
        },
        "id": "I8m_DVYzEk8v",
        "outputId": "31aa6f9b-bf3e-4aa9-9f1c-3131f3c66c9f"
      },
      "execution_count": null,
      "outputs": [
        {
          "output_type": "execute_result",
          "data": {
            "text/plain": [
              "array([2, 5, 8])"
            ]
          },
          "metadata": {},
          "execution_count": 13
        }
      ]
    },
    {
      "cell_type": "code",
      "source": [
        "a = np.arange(2,10) # Default step = 1\n",
        "b = np.arange(5) # Default start = 0\n",
        "print(a)\n",
        "print(b)"
      ],
      "metadata": {
        "colab": {
          "base_uri": "https://localhost:8080/"
        },
        "id": "C7QGHUJi8ePU",
        "outputId": "e14dcc5f-162a-4657-802c-ecb292a7f315"
      },
      "execution_count": null,
      "outputs": [
        {
          "output_type": "stream",
          "name": "stdout",
          "text": [
            "[2 3 4 5 6 7 8 9]\n",
            "[0 1 2 3 4]\n"
          ]
        }
      ]
    },
    {
      "cell_type": "markdown",
      "source": [
        "### Linear space"
      ],
      "metadata": {
        "id": "gKo_d4pm9zmP"
      }
    },
    {
      "cell_type": "code",
      "source": [
        "#linspace(start, stop, num)\n",
        "np.linspace(start=20.0, stop=30.0, num=5)"
      ],
      "metadata": {
        "colab": {
          "base_uri": "https://localhost:8080/"
        },
        "id": "URBiHzJA93Ca",
        "outputId": "e2608861-a713-43e3-a87b-af42cd8200e3"
      },
      "execution_count": null,
      "outputs": [
        {
          "output_type": "execute_result",
          "data": {
            "text/plain": [
              "array([20. , 22.5, 25. , 27.5, 30. ])"
            ]
          },
          "metadata": {},
          "execution_count": 15
        }
      ]
    },
    {
      "cell_type": "code",
      "source": [
        "a = np.linspace(10, 20, 5, endpoint = True)\n",
        "b = np.linspace(10, 20, 5, endpoint = False)\n",
        "print(a)\n",
        "print(b)"
      ],
      "metadata": {
        "colab": {
          "base_uri": "https://localhost:8080/"
        },
        "id": "ExwuggMn-htJ",
        "outputId": "34b19596-110e-4e5e-be0d-06b4052d4697"
      },
      "execution_count": null,
      "outputs": [
        {
          "output_type": "stream",
          "name": "stdout",
          "text": [
            "[10.  12.5 15.  17.5 20. ]\n",
            "[10. 12. 14. 16. 18.]\n"
          ]
        }
      ]
    },
    {
      "cell_type": "markdown",
      "source": [
        "### **3. Generate arrays using ones or zeros**"
      ],
      "metadata": {
        "id": "0T1AaYMgFA4W"
      }
    },
    {
      "cell_type": "code",
      "source": [
        "print(np.ones(3))"
      ],
      "metadata": {
        "colab": {
          "base_uri": "https://localhost:8080/"
        },
        "id": "EENXfZvOFJIy",
        "outputId": "7fb8d524-0496-4db2-e773-7a38d89c0e52"
      },
      "execution_count": null,
      "outputs": [
        {
          "output_type": "stream",
          "name": "stdout",
          "text": [
            "[1. 1. 1.]\n"
          ]
        }
      ]
    },
    {
      "cell_type": "code",
      "source": [
        "print(np.ones((3, 3)))"
      ],
      "metadata": {
        "colab": {
          "base_uri": "https://localhost:8080/"
        },
        "id": "fuMVaHr4FTdf",
        "outputId": "26aa9998-b02a-4f35-aa64-57a5e6a93a02"
      },
      "execution_count": null,
      "outputs": [
        {
          "output_type": "stream",
          "name": "stdout",
          "text": [
            "[[1. 1. 1.]\n",
            " [1. 1. 1.]\n",
            " [1. 1. 1.]]\n"
          ]
        }
      ]
    },
    {
      "cell_type": "code",
      "source": [
        "print(np.ones((3, 3),int))"
      ],
      "metadata": {
        "colab": {
          "base_uri": "https://localhost:8080/"
        },
        "id": "SU7mr2EOFXuL",
        "outputId": "cb2e16ef-5561-4a4c-8951-522c4829fd47"
      },
      "execution_count": null,
      "outputs": [
        {
          "output_type": "stream",
          "name": "stdout",
          "text": [
            "[[1 1 1]\n",
            " [1 1 1]\n",
            " [1 1 1]]\n"
          ]
        }
      ]
    },
    {
      "cell_type": "code",
      "source": [
        "print(np.zeros((3,3)))"
      ],
      "metadata": {
        "colab": {
          "base_uri": "https://localhost:8080/"
        },
        "id": "tCvKm6DnFZfW",
        "outputId": "7fe35451-0b3a-4195-d647-2fc6e69a8cf6"
      },
      "execution_count": null,
      "outputs": [
        {
          "output_type": "stream",
          "name": "stdout",
          "text": [
            "[[0. 0. 0.]\n",
            " [0. 0. 0.]\n",
            " [0. 0. 0.]]\n"
          ]
        }
      ]
    },
    {
      "cell_type": "code",
      "source": [
        "print(np.eye(5))"
      ],
      "metadata": {
        "colab": {
          "base_uri": "https://localhost:8080/"
        },
        "id": "TLvSkZijFflz",
        "outputId": "f1152fad-1ec4-4196-8eb4-5d54d91e5675"
      },
      "execution_count": null,
      "outputs": [
        {
          "output_type": "stream",
          "name": "stdout",
          "text": [
            "[[1. 0. 0. 0. 0.]\n",
            " [0. 1. 0. 0. 0.]\n",
            " [0. 0. 1. 0. 0.]\n",
            " [0. 0. 0. 1. 0.]\n",
            " [0. 0. 0. 0. 1.]]\n"
          ]
        }
      ]
    },
    {
      "cell_type": "code",
      "source": [
        "print(np.identity(4))"
      ],
      "metadata": {
        "colab": {
          "base_uri": "https://localhost:8080/"
        },
        "id": "fwpiWYMoosBE",
        "outputId": "c3e1a4f6-02e5-439a-f9d7-351bca81c6cf"
      },
      "execution_count": null,
      "outputs": [
        {
          "output_type": "stream",
          "name": "stdout",
          "text": [
            "[[1. 0. 0. 0.]\n",
            " [0. 1. 0. 0.]\n",
            " [0. 0. 1. 0.]\n",
            " [0. 0. 0. 1.]]\n"
          ]
        }
      ]
    },
    {
      "cell_type": "markdown",
      "source": [
        "## **Some array operation**"
      ],
      "metadata": {
        "id": "fgxqOMq6Eb7p"
      }
    },
    {
      "cell_type": "markdown",
      "source": [
        "### Shape and reshape"
      ],
      "metadata": {
        "id": "GnuVIKDkE2Fi"
      }
    },
    {
      "cell_type": "code",
      "source": [
        "array_2d=np.array([[1,2,3,4],[6,7,8,9]])\n",
        "print(array_2d)\n",
        "print(array_2d.shape)"
      ],
      "metadata": {
        "colab": {
          "base_uri": "https://localhost:8080/"
        },
        "id": "JW8GFXRs-5wC",
        "outputId": "a6314d3f-5b12-4e17-d404-8cc092900e73"
      },
      "execution_count": null,
      "outputs": [
        {
          "output_type": "stream",
          "name": "stdout",
          "text": [
            "[[1 2 3 4]\n",
            " [6 7 8 9]]\n",
            "(2, 4)\n"
          ]
        }
      ]
    },
    {
      "cell_type": "code",
      "source": [
        "print(\"Reshaping the array in 4x2 dimension\")\n",
        "print(array_2d.reshape(4,2))\n",
        "print(\"\\n\")\n",
        "print(\"Reshaping the array in 1x8 dimension\")\n",
        "print(array_2d.reshape(1,8))"
      ],
      "metadata": {
        "colab": {
          "base_uri": "https://localhost:8080/"
        },
        "id": "lgYxDJkYEmgn",
        "outputId": "b7dbce7d-2c7d-40a9-8e69-914f92114c37"
      },
      "execution_count": null,
      "outputs": [
        {
          "output_type": "stream",
          "name": "stdout",
          "text": [
            "Reshaping the array in 4x2 dimension\n",
            "[[1 2]\n",
            " [3 4]\n",
            " [6 7]\n",
            " [8 9]]\n",
            "\n",
            "\n",
            "Reshaping the array in 1x8 dimension\n",
            "[[1 2 3 4 6 7 8 9]]\n"
          ]
        }
      ]
    },
    {
      "cell_type": "markdown",
      "source": [
        "### Indexing"
      ],
      "metadata": {
        "id": "G6fp7JUjUG95"
      }
    },
    {
      "cell_type": "markdown",
      "source": [
        "*1D array*"
      ],
      "metadata": {
        "id": "ahz_KzkqdbbN"
      }
    },
    {
      "cell_type": "code",
      "source": [
        "x = np.array([2, 5, 8, 11, 14, 17, 21])"
      ],
      "metadata": {
        "id": "LtKBjiE9MOuV"
      },
      "execution_count": null,
      "outputs": []
    },
    {
      "cell_type": "code",
      "source": [
        "x[0] # First element"
      ],
      "metadata": {
        "colab": {
          "base_uri": "https://localhost:8080/"
        },
        "id": "F-2gDSavU4AX",
        "outputId": "897bac41-234e-4512-8918-13c170bb75be"
      },
      "execution_count": null,
      "outputs": [
        {
          "output_type": "execute_result",
          "data": {
            "text/plain": [
              "2"
            ]
          },
          "metadata": {},
          "execution_count": 26
        }
      ]
    },
    {
      "cell_type": "code",
      "source": [
        "x[1]"
      ],
      "metadata": {
        "colab": {
          "base_uri": "https://localhost:8080/"
        },
        "id": "rEtzXcrWVAgj",
        "outputId": "b34fbb4d-62d9-4058-8e17-36fa75b20c90"
      },
      "execution_count": null,
      "outputs": [
        {
          "output_type": "execute_result",
          "data": {
            "text/plain": [
              "5"
            ]
          },
          "metadata": {},
          "execution_count": 27
        }
      ]
    },
    {
      "cell_type": "code",
      "source": [
        "print(x[-1]) #last element\n",
        "print(x[-2])"
      ],
      "metadata": {
        "colab": {
          "base_uri": "https://localhost:8080/"
        },
        "id": "CUbB_xXnVJMW",
        "outputId": "39f96c54-af84-47cb-8206-6e61f5df1240"
      },
      "execution_count": null,
      "outputs": [
        {
          "output_type": "stream",
          "name": "stdout",
          "text": [
            "21\n",
            "17\n"
          ]
        }
      ]
    },
    {
      "cell_type": "markdown",
      "source": [
        "*2D array*"
      ],
      "metadata": {
        "id": "MpPSozyNdqUz"
      }
    },
    {
      "cell_type": "code",
      "source": [
        "M = np.array([[1,2,3],[4,5,6],[7,8,9]])\n",
        "print(M)"
      ],
      "metadata": {
        "colab": {
          "base_uri": "https://localhost:8080/"
        },
        "id": "mNPrbAkmdst5",
        "outputId": "9b4dbc32-b9d3-4770-94a1-52b6b150be25"
      },
      "execution_count": null,
      "outputs": [
        {
          "output_type": "stream",
          "name": "stdout",
          "text": [
            "[[1 2 3]\n",
            " [4 5 6]\n",
            " [7 8 9]]\n"
          ]
        }
      ]
    },
    {
      "cell_type": "code",
      "source": [
        "M[0]"
      ],
      "metadata": {
        "colab": {
          "base_uri": "https://localhost:8080/"
        },
        "id": "cGjJSffjlewm",
        "outputId": "3e377511-a9b0-47e4-f83a-d22f62cb2dbb"
      },
      "execution_count": null,
      "outputs": [
        {
          "output_type": "execute_result",
          "data": {
            "text/plain": [
              "array([1, 2, 3])"
            ]
          },
          "metadata": {},
          "execution_count": 30
        }
      ]
    },
    {
      "cell_type": "code",
      "source": [
        "M[0,0]"
      ],
      "metadata": {
        "colab": {
          "base_uri": "https://localhost:8080/"
        },
        "id": "Rj7mtZNXd8TQ",
        "outputId": "005f0e87-2b58-464e-df4f-79bc9b6dba4d"
      },
      "execution_count": null,
      "outputs": [
        {
          "output_type": "execute_result",
          "data": {
            "text/plain": [
              "1"
            ]
          },
          "metadata": {},
          "execution_count": 31
        }
      ]
    },
    {
      "cell_type": "code",
      "source": [
        "print(M[1,2])\n",
        "print(M[2,2])"
      ],
      "metadata": {
        "colab": {
          "base_uri": "https://localhost:8080/"
        },
        "id": "Ieg-OhNceJul",
        "outputId": "9656bb55-d964-4e5c-9e2b-f5cc964b74fc"
      },
      "execution_count": null,
      "outputs": [
        {
          "output_type": "stream",
          "name": "stdout",
          "text": [
            "6\n",
            "9\n"
          ]
        }
      ]
    },
    {
      "cell_type": "markdown",
      "source": [
        "### Slicing"
      ],
      "metadata": {
        "id": "zlMp9XEaVUL_"
      }
    },
    {
      "cell_type": "markdown",
      "source": [
        "*1D array*\n",
        "\n"
      ],
      "metadata": {
        "id": "hC8BSZWBeeXz"
      }
    },
    {
      "cell_type": "code",
      "source": [
        "x = np.array([2, 5, 8, 11, 14, 17, 21])\n",
        "\n",
        "print(x[1:6:2])  #start=1, ends before index 6, step=2"
      ],
      "metadata": {
        "colab": {
          "base_uri": "https://localhost:8080/"
        },
        "id": "cMv450J4VR6s",
        "outputId": "c5b25cd3-29d2-4c3f-e8a4-d98bb608dd62"
      },
      "execution_count": null,
      "outputs": [
        {
          "output_type": "stream",
          "name": "stdout",
          "text": [
            "[ 5 11 17]\n"
          ]
        }
      ]
    },
    {
      "cell_type": "code",
      "source": [
        "x[2:5] # step = 1, by default"
      ],
      "metadata": {
        "colab": {
          "base_uri": "https://localhost:8080/"
        },
        "id": "LLWD9RbVVmc1",
        "outputId": "4bf3e9df-1f40-4370-8821-c5a3bd53ac99"
      },
      "execution_count": null,
      "outputs": [
        {
          "output_type": "execute_result",
          "data": {
            "text/plain": [
              "array([ 8, 11, 14])"
            ]
          },
          "metadata": {},
          "execution_count": 34
        }
      ]
    },
    {
      "cell_type": "code",
      "source": [
        "x[2:] # From index 2 to end, step=1"
      ],
      "metadata": {
        "colab": {
          "base_uri": "https://localhost:8080/"
        },
        "id": "zqTlUgNQYZxy",
        "outputId": "4467a257-2df0-4b37-ed47-53dd2a2a3962"
      },
      "execution_count": null,
      "outputs": [
        {
          "output_type": "execute_result",
          "data": {
            "text/plain": [
              "array([ 8, 11, 14, 17, 21])"
            ]
          },
          "metadata": {},
          "execution_count": 35
        }
      ]
    },
    {
      "cell_type": "code",
      "source": [
        "x[:5] # From index 0 to 4, step=1"
      ],
      "metadata": {
        "colab": {
          "base_uri": "https://localhost:8080/"
        },
        "id": "TfyE61s5Yr7v",
        "outputId": "bb2201ec-e0be-49ed-cb79-c5fa05ed1fdc"
      },
      "execution_count": null,
      "outputs": [
        {
          "output_type": "execute_result",
          "data": {
            "text/plain": [
              "array([ 2,  5,  8, 11, 14])"
            ]
          },
          "metadata": {},
          "execution_count": 36
        }
      ]
    },
    {
      "cell_type": "code",
      "source": [
        "print(x[:]) # Sliced in full\n",
        "print(x[::]) # Sliced in full\n",
        "\n",
        "# Note: x[:] and x[::] are the same. So, x[2:] and x[2::] are also same."
      ],
      "metadata": {
        "colab": {
          "base_uri": "https://localhost:8080/"
        },
        "id": "WePM--EfZQbv",
        "outputId": "e147cef9-04f7-4a07-c3b4-6afde4d3a6b7"
      },
      "execution_count": null,
      "outputs": [
        {
          "output_type": "stream",
          "name": "stdout",
          "text": [
            "[ 2  5  8 11 14 17 21]\n",
            "[ 2  5  8 11 14 17 21]\n"
          ]
        }
      ]
    },
    {
      "cell_type": "code",
      "source": [
        "x[:-1] # From index 0, stops before the last index"
      ],
      "metadata": {
        "colab": {
          "base_uri": "https://localhost:8080/"
        },
        "id": "4h2jdqGEbGkB",
        "outputId": "fd2dc1b7-1d9d-4f36-dd5c-221f05971dc4"
      },
      "execution_count": null,
      "outputs": [
        {
          "output_type": "execute_result",
          "data": {
            "text/plain": [
              "array([ 2,  5,  8, 11, 14, 17])"
            ]
          },
          "metadata": {},
          "execution_count": 38
        }
      ]
    },
    {
      "cell_type": "code",
      "source": [
        "print(x[::-1]) # Array reversed as step = -1\n",
        "print(x[::-2])"
      ],
      "metadata": {
        "colab": {
          "base_uri": "https://localhost:8080/"
        },
        "id": "7C-r4VgFiunj",
        "outputId": "223a86d1-5fc9-477f-f163-d11ea48d33dd"
      },
      "execution_count": null,
      "outputs": [
        {
          "output_type": "stream",
          "name": "stdout",
          "text": [
            "[21 17 14 11  8  5  2]\n",
            "[21 14  8  2]\n"
          ]
        }
      ]
    },
    {
      "cell_type": "markdown",
      "source": [
        "*2D array*"
      ],
      "metadata": {
        "id": "NDNkuJNykdUS"
      }
    },
    {
      "cell_type": "code",
      "source": [
        "A = np.array([[1,2,3,4],\n",
        "              [5,6,7,8],\n",
        "              [9,10,11,12],\n",
        "              [13,14,15,16]])\n",
        "print(A)"
      ],
      "metadata": {
        "colab": {
          "base_uri": "https://localhost:8080/"
        },
        "id": "JulhrRZ_jD2G",
        "outputId": "30050e35-0169-4b05-defa-35a372adb7e5"
      },
      "execution_count": null,
      "outputs": [
        {
          "output_type": "stream",
          "name": "stdout",
          "text": [
            "[[ 1  2  3  4]\n",
            " [ 5  6  7  8]\n",
            " [ 9 10 11 12]\n",
            " [13 14 15 16]]\n"
          ]
        }
      ]
    },
    {
      "cell_type": "code",
      "source": [
        "print(A[2:])\n",
        "print(\"\\n\")\n",
        "print(A[:2])"
      ],
      "metadata": {
        "colab": {
          "base_uri": "https://localhost:8080/"
        },
        "id": "b3svAuzjlQis",
        "outputId": "05d5b85b-6a93-4aaf-ee3b-5c6fa1ddae12"
      },
      "execution_count": null,
      "outputs": [
        {
          "output_type": "stream",
          "name": "stdout",
          "text": [
            "[[ 9 10 11 12]\n",
            " [13 14 15 16]]\n",
            "\n",
            "\n",
            "[[1 2 3 4]\n",
            " [5 6 7 8]]\n"
          ]
        }
      ]
    },
    {
      "cell_type": "code",
      "source": [
        "print(A[2:,2:])\n",
        "print(\"\\n\")\n",
        "print(A[:2,1:3])"
      ],
      "metadata": {
        "colab": {
          "base_uri": "https://localhost:8080/"
        },
        "id": "CRAAa67-l-h2",
        "outputId": "805e7e0c-a14c-4921-e949-431e3f394299"
      },
      "execution_count": null,
      "outputs": [
        {
          "output_type": "stream",
          "name": "stdout",
          "text": [
            "[[11 12]\n",
            " [15 16]]\n",
            "\n",
            "\n",
            "[[2 3]\n",
            " [6 7]]\n"
          ]
        }
      ]
    },
    {
      "cell_type": "markdown",
      "source": [
        "## **NumPy Math**"
      ],
      "metadata": {
        "id": "gPnbiWEyuELs"
      }
    },
    {
      "cell_type": "markdown",
      "source": [
        "### Methods of statistics"
      ],
      "metadata": {
        "id": "qZtqelb5ujjp"
      }
    },
    {
      "cell_type": "code",
      "source": [
        "x = np.array([10,20,30,40,50,60,70,80,90])"
      ],
      "metadata": {
        "id": "lxb1m0-lnkBR"
      },
      "execution_count": null,
      "outputs": []
    },
    {
      "cell_type": "code",
      "source": [
        "print(\"Summation of all numbers\")\n",
        "print(x.sum())\n",
        "print(\"\\n\")\n",
        "\n",
        "print(\"Cumulative sum\")\n",
        "print(x.cumsum())\n",
        "print(\"\\n\")\n",
        "\n",
        "print(\"Largest element\")\n",
        "print(x.max())\n",
        "print(\"\\n\")\n",
        "\n",
        "print(\"Smallest element\")\n",
        "print(x.min())\n",
        "print(\"\\n\")\n",
        "\n",
        "print(\"Product of all numbers\")\n",
        "print(x.prod())"
      ],
      "metadata": {
        "colab": {
          "base_uri": "https://localhost:8080/"
        },
        "id": "ksEFz7-FuyLX",
        "outputId": "8f78ec03-f656-4979-b7a6-00293a0b314b"
      },
      "execution_count": null,
      "outputs": [
        {
          "output_type": "stream",
          "name": "stdout",
          "text": [
            "Summation of all numbers\n",
            "450\n",
            "\n",
            "\n",
            "Cumulative sum\n",
            "[ 10  30  60 100 150 210 280 360 450]\n",
            "\n",
            "\n",
            "Largest element\n",
            "90\n",
            "\n",
            "\n",
            "Smallest element\n",
            "10\n",
            "\n",
            "\n",
            "Product of all numbers\n",
            "362880000000000\n"
          ]
        }
      ]
    },
    {
      "cell_type": "code",
      "source": [
        "y=x.reshape(3,3) # Reshaped x into a 2D array\n",
        "print(y)"
      ],
      "metadata": {
        "colab": {
          "base_uri": "https://localhost:8080/"
        },
        "id": "G0ud6Iu0vy_Y",
        "outputId": "a1651bc6-69bf-4aaf-a48b-42b811c80163"
      },
      "execution_count": null,
      "outputs": [
        {
          "output_type": "stream",
          "name": "stdout",
          "text": [
            "[[10 20 30]\n",
            " [40 50 60]\n",
            " [70 80 90]]\n"
          ]
        }
      ]
    },
    {
      "cell_type": "code",
      "source": [
        "print(\"Sum of each column\")\n",
        "print(np.sum(y, axis=0)) # Sum of each column\n",
        "print(\"\\n\")\n",
        "\n",
        "print(\"Sum of each row\")\n",
        "print(np.sum(y, axis=1)) # Sum of each row"
      ],
      "metadata": {
        "colab": {
          "base_uri": "https://localhost:8080/"
        },
        "id": "Futo2oSkyFbE",
        "outputId": "9a4f6b0f-d899-4914-b578-93b3a3e787e1"
      },
      "execution_count": null,
      "outputs": [
        {
          "output_type": "stream",
          "name": "stdout",
          "text": [
            "Sum of each column\n",
            "[120 150 180]\n",
            "\n",
            "\n",
            "Sum of each row\n",
            "[ 60 150 240]\n"
          ]
        }
      ]
    },
    {
      "cell_type": "code",
      "source": [
        "# Mean or median\n",
        "\n",
        "print(\"Mean of the values of x\")\n",
        "print(np.mean(x)) # Mean of the values of x\n",
        "print(\"\\n\")\n",
        "\n",
        "print(\"Mean of the values of each column of y\")\n",
        "print(np.mean(y, axis=0)) # Mean of the values of each column of y"
      ],
      "metadata": {
        "colab": {
          "base_uri": "https://localhost:8080/"
        },
        "id": "iLl-7Y-hyvqw",
        "outputId": "1910f1c5-5ba3-4c97-b5d8-71336d485134"
      },
      "execution_count": null,
      "outputs": [
        {
          "output_type": "stream",
          "name": "stdout",
          "text": [
            "Mean of the values of x\n",
            "50.0\n",
            "\n",
            "\n",
            "Mean of the values of each column of y\n",
            "[40. 50. 60.]\n"
          ]
        }
      ]
    },
    {
      "cell_type": "code",
      "source": [
        "print(\"Variance the values of x\")\n",
        "print(np.var(x)) # Variance of the values of x\n",
        "print(\"\\n\")\n",
        "\n",
        "print(\"Standard deviation of the values of x\")\n",
        "print(np.std(x)) # Standard deviation of the values of x"
      ],
      "metadata": {
        "colab": {
          "base_uri": "https://localhost:8080/"
        },
        "id": "IEL2QC7L0A_s",
        "outputId": "2ed77ac4-bc5b-414a-ecec-e19f544b0b56"
      },
      "execution_count": null,
      "outputs": [
        {
          "output_type": "stream",
          "name": "stdout",
          "text": [
            "Variance the values of x\n",
            "666.6666666666666\n",
            "\n",
            "\n",
            "Standard deviation of the values of x\n",
            "25.81988897471611\n"
          ]
        }
      ]
    },
    {
      "cell_type": "markdown",
      "source": [
        "### Arithmetic and vector operations"
      ],
      "metadata": {
        "id": "24-JMP6y2uvO"
      }
    },
    {
      "cell_type": "code",
      "source": [
        "x = np.array([1,2,3,4])\n",
        "y = np.array([5,6,7,8])"
      ],
      "metadata": {
        "id": "HNr_eoWV1teY"
      },
      "execution_count": null,
      "outputs": []
    },
    {
      "cell_type": "code",
      "source": [
        "print(\"Summation is\")\n",
        "print(x+y)\n",
        "print(\"\\n\")\n",
        "\n",
        "print(\"Substraction is\")\n",
        "print(x-y)\n",
        "print(\"\\n\")\n",
        "\n",
        "print(\"product of the elements\")\n",
        "print(x*y)\n",
        "print(\"\\n\")\n",
        "\n",
        "print(\"Division of the elements\")\n",
        "print(y/x)"
      ],
      "metadata": {
        "colab": {
          "base_uri": "https://localhost:8080/"
        },
        "id": "Vvan5JOCC3Z0",
        "outputId": "a33607a5-49ef-4418-9fbd-99aba8de429f"
      },
      "execution_count": null,
      "outputs": [
        {
          "output_type": "stream",
          "name": "stdout",
          "text": [
            "Summation is\n",
            "[ 6  8 10 12]\n",
            "\n",
            "\n",
            "Substraction is\n",
            "[-4 -4 -4 -4]\n",
            "\n",
            "\n",
            "product of the elements\n",
            "[ 5 12 21 32]\n",
            "\n",
            "\n",
            "Division of the elements\n",
            "[5.         3.         2.33333333 2.        ]\n"
          ]
        }
      ]
    },
    {
      "cell_type": "code",
      "source": [
        "print(x+y-10)\n",
        "print((y-x)*2.5)"
      ],
      "metadata": {
        "colab": {
          "base_uri": "https://localhost:8080/"
        },
        "id": "kh1SSRKcHU5H",
        "outputId": "9c6eba05-4d19-43bf-f385-a797704a13e2"
      },
      "execution_count": null,
      "outputs": [
        {
          "output_type": "stream",
          "name": "stdout",
          "text": [
            "[-4 -2  0  2]\n",
            "[10. 10. 10. 10.]\n"
          ]
        }
      ]
    },
    {
      "cell_type": "code",
      "source": [
        "a = np.array([3,9,12,8,0.3,2.5])\n",
        "print(a)\n",
        "print(\"\\n\")\n",
        "print(np.sqrt(a))  # Square root\n",
        "print(np.power(a, 2))  # Square\n",
        "print(np.exp(a)) # Exponential\n",
        "print(np.log(a)) # Logarithmic"
      ],
      "metadata": {
        "colab": {
          "base_uri": "https://localhost:8080/"
        },
        "id": "dV1x3mcVuY9V",
        "outputId": "07f1bc54-e333-4bd2-cbfe-1d827fbfdb47"
      },
      "execution_count": null,
      "outputs": [
        {
          "output_type": "stream",
          "name": "stdout",
          "text": [
            "[ 3.   9.  12.   8.   0.3  2.5]\n",
            "\n",
            "\n",
            "[1.73205081 3.         3.46410162 2.82842712 0.54772256 1.58113883]\n",
            "[9.00e+00 8.10e+01 1.44e+02 6.40e+01 9.00e-02 6.25e+00]\n",
            "[2.00855369e+01 8.10308393e+03 1.62754791e+05 2.98095799e+03\n",
            " 1.34985881e+00 1.21824940e+01]\n",
            "[ 1.09861229  2.19722458  2.48490665  2.07944154 -1.2039728   0.91629073]\n"
          ]
        }
      ]
    },
    {
      "cell_type": "markdown",
      "source": [
        "Inner product and cross product"
      ],
      "metadata": {
        "id": "o40cW_djtLN-"
      }
    },
    {
      "cell_type": "code",
      "source": [
        "u = np.array([1,2,3])\n",
        "v = np.array([-1,0,1])\n",
        "print(\"Array u is:\", u)\n",
        "print(\"Array v is:\", v)\n",
        "print(\"\\n\")\n",
        "print(\"Inner product is:\", np.inner(u,v))\n",
        "print(\"Cross product is:\", np.cross(u,v))"
      ],
      "metadata": {
        "colab": {
          "base_uri": "https://localhost:8080/"
        },
        "id": "pdzlS7vJtQxC",
        "outputId": "a5d0f85d-48cc-446f-ca46-864a2e7c757e"
      },
      "execution_count": null,
      "outputs": [
        {
          "output_type": "stream",
          "name": "stdout",
          "text": [
            "Array u is: [1 2 3]\n",
            "Array v is: [-1  0  1]\n",
            "\n",
            "\n",
            "Inner product is: 2\n",
            "Cross product is: [ 2 -4  2]\n"
          ]
        }
      ]
    },
    {
      "cell_type": "markdown",
      "source": [
        "### Matrix operations"
      ],
      "metadata": {
        "id": "R8hViPgzHA7l"
      }
    },
    {
      "cell_type": "code",
      "source": [
        "A = np.array([[1,2],[3,4]])\n",
        "B = np.array([[5,6],[7,8]])\n",
        "print(\"Matrix A is\")\n",
        "print(A)\n",
        "print(\"Matrix B is\")\n",
        "print(B)"
      ],
      "metadata": {
        "colab": {
          "base_uri": "https://localhost:8080/"
        },
        "id": "YaflcikqFRNi",
        "outputId": "92e64ee9-4166-46e7-ac58-60eb0c6fb3ef"
      },
      "execution_count": null,
      "outputs": [
        {
          "output_type": "stream",
          "name": "stdout",
          "text": [
            "Matrix A is\n",
            "[[1 2]\n",
            " [3 4]]\n",
            "Matrix B is\n",
            "[[5 6]\n",
            " [7 8]]\n"
          ]
        }
      ]
    },
    {
      "cell_type": "code",
      "source": [
        "print(\"Matrix summation\")\n",
        "print(A+B)\n",
        "print(np.add(A,B))\n",
        "print(\"\\n\")\n",
        "\n",
        "print(\"Matrix substraction\")\n",
        "print(A-B)\n",
        "print(np.subtract(A,B))\n",
        "print(\"\\n\")\n",
        "\n",
        "print(\"Matrix multiplication\")\n",
        "print(np.matmul(A,B))\n",
        "print(np.dot(A,B))\n",
        "print(\"\\n\")\n",
        "\n",
        "print(\"product of the elements\")\n",
        "print(A*B)\n",
        "print(np.multiply(A,B))\n",
        "print(\"\\n\")"
      ],
      "metadata": {
        "colab": {
          "base_uri": "https://localhost:8080/"
        },
        "id": "uunFjXJdIMbx",
        "outputId": "da601065-3f5d-44de-d7d4-80870218111c"
      },
      "execution_count": null,
      "outputs": [
        {
          "output_type": "stream",
          "name": "stdout",
          "text": [
            "Matrix summation\n",
            "[[ 6  8]\n",
            " [10 12]]\n",
            "[[ 6  8]\n",
            " [10 12]]\n",
            "\n",
            "\n",
            "Matrix substraction\n",
            "[[-4 -4]\n",
            " [-4 -4]]\n",
            "[[-4 -4]\n",
            " [-4 -4]]\n",
            "\n",
            "\n",
            "Matrix multiplication\n",
            "[[19 22]\n",
            " [43 50]]\n",
            "[[19 22]\n",
            " [43 50]]\n",
            "\n",
            "\n",
            "product of the elements\n",
            "[[ 5 12]\n",
            " [21 32]]\n",
            "[[ 5 12]\n",
            " [21 32]]\n",
            "\n",
            "\n"
          ]
        }
      ]
    },
    {
      "cell_type": "markdown",
      "source": [
        "**Broadcasting**: Broadcasting refers to the ability of NumPy to treat arrays of different shapes during arithmatic operations."
      ],
      "metadata": {
        "id": "aGSXpHurSjlE"
      }
    },
    {
      "cell_type": "code",
      "source": [
        "A = np.array([[1,2,3],[4,5,6],[7,8,9]])\n",
        "x=10\n",
        "y=np.array([10,11,12])\n",
        "z=np.array([[10],[11],[12]])\n",
        "\n",
        "print(\"A is a 3x3 matrix:\\n\", A,\"\\n\")\n",
        "print(\"x is a number:\", x,\"\\n\")\n",
        "print(\"y is 1x3 row vector:\\n\", y,\"\\n\")\n",
        "print(\"z is 3x1 column vector:\\n\", z)"
      ],
      "metadata": {
        "colab": {
          "base_uri": "https://localhost:8080/"
        },
        "id": "Hjj4ZwT5JnWK",
        "outputId": "c6f5ae64-11b4-41df-ffc0-35a09037ffb9"
      },
      "execution_count": null,
      "outputs": [
        {
          "output_type": "stream",
          "name": "stdout",
          "text": [
            "A is a 3x3 matrix:\n",
            " [[1 2 3]\n",
            " [4 5 6]\n",
            " [7 8 9]] \n",
            "\n",
            "x is a number: 10 \n",
            "\n",
            "y is 1x3 row vector:\n",
            " [10 11 12] \n",
            "\n",
            "z is 3x1 column vector:\n",
            " [[10]\n",
            " [11]\n",
            " [12]]\n"
          ]
        }
      ]
    },
    {
      "cell_type": "code",
      "source": [
        "print(A+x,\"\\n\")\n",
        "print(A+y,\"\\n\")\n",
        "print(A+z)"
      ],
      "metadata": {
        "colab": {
          "base_uri": "https://localhost:8080/"
        },
        "id": "ecsuLPy_Q6D9",
        "outputId": "d258da40-13d7-4abc-de3f-c6fc2191879b"
      },
      "execution_count": null,
      "outputs": [
        {
          "output_type": "stream",
          "name": "stdout",
          "text": [
            "[[11 12 13]\n",
            " [14 15 16]\n",
            " [17 18 19]] \n",
            "\n",
            "[[11 13 15]\n",
            " [14 16 18]\n",
            " [17 19 21]] \n",
            "\n",
            "[[11 12 13]\n",
            " [15 16 17]\n",
            " [19 20 21]]\n"
          ]
        }
      ]
    },
    {
      "cell_type": "markdown",
      "source": [
        "Transpose and trace"
      ],
      "metadata": {
        "id": "MshaOzDgpxt1"
      }
    },
    {
      "cell_type": "code",
      "source": [
        "A = np.array([[1,2,3],[4,5,6]])\n",
        "print(A)\n",
        "print(\"Shape of A is:\\n\",A.shape)\n",
        "print(\"\\n\")\n",
        "print(\"Transpose of A is\")\n",
        "print(A.T)  # Transpose\n",
        "print(\"Shape of transpose of A is:\\n\",A.T.shape)"
      ],
      "metadata": {
        "colab": {
          "base_uri": "https://localhost:8080/"
        },
        "id": "paHZRKtgSJtI",
        "outputId": "8051fe2f-7309-4588-b462-f4cbb71d2245"
      },
      "execution_count": null,
      "outputs": [
        {
          "output_type": "stream",
          "name": "stdout",
          "text": [
            "[[1 2 3]\n",
            " [4 5 6]]\n",
            "Shape of A is:\n",
            " (2, 3)\n",
            "\n",
            "\n",
            "Transpose of A is\n",
            "[[1 4]\n",
            " [2 5]\n",
            " [3 6]]\n",
            "Shape of transpose of A is:\n",
            " (3, 2)\n"
          ]
        }
      ]
    },
    {
      "cell_type": "code",
      "source": [
        "B = np.array([[1,2,3],[4,5,6],[7,8,9]])\n",
        "print(B)\n",
        "print(\"Trace of matrix B is\", np.trace(B))  # Trace\n"
      ],
      "metadata": {
        "colab": {
          "base_uri": "https://localhost:8080/"
        },
        "id": "wAHn63hGqh1P",
        "outputId": "67ac6c6f-71d7-47a2-a801-df8f3c86be8e"
      },
      "execution_count": null,
      "outputs": [
        {
          "output_type": "stream",
          "name": "stdout",
          "text": [
            "[[1 2 3]\n",
            " [4 5 6]\n",
            " [7 8 9]]\n",
            "Trace of matrix B is 15\n"
          ]
        }
      ]
    },
    {
      "cell_type": "markdown",
      "source": [
        "### Complex matrices"
      ],
      "metadata": {
        "id": "auCaEIlH3Q5r"
      }
    },
    {
      "cell_type": "code",
      "source": [
        "C = np.matrix([[1+2j, 0+1j],[2-3j, 5+0j]])\n",
        "print(C)"
      ],
      "metadata": {
        "colab": {
          "base_uri": "https://localhost:8080/"
        },
        "id": "wecV1S7Y3moW",
        "outputId": "6487d3b1-1e24-4105-eb9c-630e49073a07"
      },
      "execution_count": null,
      "outputs": [
        {
          "output_type": "stream",
          "name": "stdout",
          "text": [
            "[[1.+2.j 0.+1.j]\n",
            " [2.-3.j 5.+0.j]]\n"
          ]
        }
      ]
    },
    {
      "cell_type": "code",
      "source": [
        "print(\"Transpose of C is:\\n\", C.T)\n",
        "print(\"\\n\")\n",
        "print(\"Conjugate matrix of C is:\\n\", C.conjugate())\n",
        "print(\"\\n\")\n",
        "print(\"Adjoint matrix of C is:\\n\", C.H)"
      ],
      "metadata": {
        "colab": {
          "base_uri": "https://localhost:8080/"
        },
        "id": "d0E7lWAD4TQS",
        "outputId": "4b1c5907-5ee3-4d6c-bec9-e812a497b600"
      },
      "execution_count": null,
      "outputs": [
        {
          "output_type": "stream",
          "name": "stdout",
          "text": [
            "Transpose of C is:\n",
            " [[1.+2.j 2.-3.j]\n",
            " [0.+1.j 5.+0.j]]\n",
            "\n",
            "\n",
            "Conjugate matrix of C is:\n",
            " [[1.-2.j 0.-1.j]\n",
            " [2.+3.j 5.-0.j]]\n",
            "\n",
            "\n",
            "Adjoint matrix of C is:\n",
            " [[1.-2.j 2.+3.j]\n",
            " [0.-1.j 5.-0.j]]\n"
          ]
        }
      ]
    },
    {
      "cell_type": "markdown",
      "source": [
        "### Linear algebra with numpy"
      ],
      "metadata": {
        "id": "NeYHH7F-vdAJ"
      }
    },
    {
      "cell_type": "code",
      "source": [
        "# Norm of a vector\n",
        "v=np.array([1,0,-2,2])\n",
        "print(\"Vector v is\", v)\n",
        "print(\"The norm of vector v is:\" ,np.linalg.norm(v))"
      ],
      "metadata": {
        "colab": {
          "base_uri": "https://localhost:8080/"
        },
        "id": "jrz4AqyEsT63",
        "outputId": "e9482e44-a719-4f50-98d4-54a389ec082e"
      },
      "execution_count": null,
      "outputs": [
        {
          "output_type": "stream",
          "name": "stdout",
          "text": [
            "Vector v is [ 1  0 -2  2]\n",
            "The norm of vector v is: 3.0\n"
          ]
        }
      ]
    },
    {
      "cell_type": "code",
      "source": [
        "# Rank of a matrix\n",
        "A = np.array([[1,0,3],[2,4,1],[0,6,3]])\n",
        "print(\"Matrix A is:\\n\", A)\n",
        "print(\"The rank of matrix A is:\", np.linalg.matrix_rank(A))"
      ],
      "metadata": {
        "colab": {
          "base_uri": "https://localhost:8080/"
        },
        "id": "zX7QybAK0z7p",
        "outputId": "13acbcd5-6cd8-4c42-8e85-f1ea81acf462"
      },
      "execution_count": null,
      "outputs": [
        {
          "output_type": "stream",
          "name": "stdout",
          "text": [
            "Matrix A is:\n",
            " [[1 0 3]\n",
            " [2 4 1]\n",
            " [0 6 3]]\n",
            "The rank of matrix A is: 3\n"
          ]
        }
      ]
    },
    {
      "cell_type": "code",
      "source": [
        "# Determinant of a matrix\n",
        "A = np.array([[1,0,3],[2,4,1],[0,6,3]])\n",
        "print(\"Matrix A is:\\n\", A)\n",
        "print(\"The determinant of matrix A is:\", np.linalg.det(A))"
      ],
      "metadata": {
        "colab": {
          "base_uri": "https://localhost:8080/"
        },
        "id": "sVtnUOJDzntU",
        "outputId": "59fecc12-a55c-40fc-de63-7f4d491d7caa"
      },
      "execution_count": null,
      "outputs": [
        {
          "output_type": "stream",
          "name": "stdout",
          "text": [
            "Matrix A is:\n",
            " [[1 0 3]\n",
            " [2 4 1]\n",
            " [0 6 3]]\n",
            "The determinant of matrix A is: 42.00000000000001\n"
          ]
        }
      ]
    },
    {
      "cell_type": "code",
      "source": [
        "# Inverse of a matrix\n",
        "B = np.linalg.inv(A)\n",
        "print(\"The inverse of matrix A is:\\n\", B)\n",
        "\n",
        "print(\"\\n\")\n",
        "# To check the answer is correct or not\n",
        "print(\"The product of original matrix and inverse matrix is identity.\")\n",
        "print(np.dot(A,B))"
      ],
      "metadata": {
        "colab": {
          "base_uri": "https://localhost:8080/"
        },
        "id": "ex-Is2A-0q29",
        "outputId": "6cb7bc73-ded6-4bc2-e17a-1c85b0c44a68"
      },
      "execution_count": null,
      "outputs": [
        {
          "output_type": "stream",
          "name": "stdout",
          "text": [
            "The inverse of matrix A is:\n",
            " [[ 0.14285714  0.42857143 -0.28571429]\n",
            " [-0.14285714  0.07142857  0.11904762]\n",
            " [ 0.28571429 -0.14285714  0.0952381 ]]\n",
            "\n",
            "\n",
            "The product of original matrix and inverse matrix is identity.\n",
            "[[1. 0. 0.]\n",
            " [0. 1. 0.]\n",
            " [0. 0. 1.]]\n"
          ]
        }
      ]
    },
    {
      "cell_type": "code",
      "source": [
        "# Eigenvalues and eigenvectors\n",
        "A = np.array([[1,0,3],[2,4,1],[0,6,3]])\n",
        "print(\"Matrix A is:\\n\", A)\n",
        "print(\"\\n\")\n",
        "\n",
        "u,v =np.linalg.eig(A)\n",
        "print(\"Eigenvalues are:\\n\",u)\n",
        "print(\"Eigenvectors are:\\n\",v)"
      ],
      "metadata": {
        "colab": {
          "base_uri": "https://localhost:8080/"
        },
        "id": "t3KD3rrw1TiC",
        "outputId": "a3ab011e-3961-49ad-c816-ab9f8ae53f5d"
      },
      "execution_count": null,
      "outputs": [
        {
          "output_type": "stream",
          "name": "stdout",
          "text": [
            "Matrix A is:\n",
            " [[1 0 3]\n",
            " [2 4 1]\n",
            " [0 6 3]]\n",
            "\n",
            "\n",
            "Eigenvalues are:\n",
            " [7. +0.j         0.5+2.39791576j 0.5-2.39791576j]\n",
            "Eigenvectors are:\n",
            " [[ 0.38411064+0.j      -0.72760688+0.j      -0.72760688-0.j     ]\n",
            " [ 0.51214752+0.j       0.18190172+0.29079j  0.18190172-0.29079j]\n",
            " [ 0.76822128+0.j       0.12126781-0.58158j  0.12126781+0.58158j]]\n"
          ]
        }
      ]
    },
    {
      "cell_type": "markdown",
      "source": [
        "## **Advantages of Numpy**"
      ],
      "metadata": {
        "id": "uveDftAS5V88"
      }
    },
    {
      "cell_type": "markdown",
      "source": [
        "### Matrix multiplication using Numpy and for loop"
      ],
      "metadata": {
        "id": "sFC4O8J-6Jys"
      }
    },
    {
      "cell_type": "markdown",
      "source": [
        "Using python for loop"
      ],
      "metadata": {
        "id": "wxzM5DCcNwLe"
      }
    },
    {
      "cell_type": "code",
      "source": [
        "A = [[1, 2], [3, 4], [5, 6]]\n",
        "B = [[9, 8, 7], [6, 5, 4]]\n",
        "\n",
        "# Get the shape of matrix A\n",
        "rows_A = len(A)\n",
        "cols_A = len(A[0])\n",
        "\n",
        "# Get the shape of matrix B\n",
        "rows_B = len(B)\n",
        "cols_B = len(B[0])\n",
        "\n",
        "# Display the shapes\n",
        "print(f\"Shape of A: {rows_A} x {cols_A}\")\n",
        "print(f\"Shape of B: {rows_B} x {cols_B}\")"
      ],
      "metadata": {
        "colab": {
          "base_uri": "https://localhost:8080/"
        },
        "id": "5gBCVDVS5cCc",
        "outputId": "5e318fec-ca63-418c-fa31-399608c46cb1"
      },
      "execution_count": null,
      "outputs": [
        {
          "output_type": "stream",
          "name": "stdout",
          "text": [
            "Shape of A: 3 x 2\n",
            "Shape of B: 2 x 3\n"
          ]
        }
      ]
    },
    {
      "cell_type": "code",
      "source": [
        "result_matrix = [[0 for _ in range(cols_B)] for _ in range(rows_A)]\n",
        "print(result_matrix)\n",
        "\n",
        "for i in range (rows_A):\n",
        "  for j in range (cols_B):\n",
        "    for k in range (cols_A):\n",
        "      result_matrix[i][j] += A[i][k]*B[k][j]\n",
        "\n",
        "print(\"The matrix multiplication using python loop\")\n",
        "for row in result_matrix:\n",
        "    print(row)\n"
      ],
      "metadata": {
        "colab": {
          "base_uri": "https://localhost:8080/"
        },
        "id": "6Ds55z06Iu4E",
        "outputId": "323b9450-1d01-4e60-c4f1-2f6fa0140724"
      },
      "execution_count": null,
      "outputs": [
        {
          "output_type": "stream",
          "name": "stdout",
          "text": [
            "[[0, 0, 0], [0, 0, 0], [0, 0, 0]]\n",
            "The matrix multiplication using python loop\n",
            "[21, 18, 15]\n",
            "[51, 44, 37]\n",
            "[81, 70, 59]\n"
          ]
        }
      ]
    },
    {
      "cell_type": "markdown",
      "source": [
        "Using NumPy"
      ],
      "metadata": {
        "id": "EKXPPGlPRF2X"
      }
    },
    {
      "cell_type": "code",
      "source": [
        "A_np = np.array(A)\n",
        "B_np = np.array(B)\n",
        "\n",
        "# Perform matrix multiplication using NumPy\n",
        "result_numpy = np.dot(A_np, B_np)\n",
        "print(result_numpy)"
      ],
      "metadata": {
        "colab": {
          "base_uri": "https://localhost:8080/"
        },
        "id": "4wWu-H9BOMTK",
        "outputId": "94ff77ba-a3ce-43e7-8f84-0e6cfef166b4"
      },
      "execution_count": null,
      "outputs": [
        {
          "output_type": "stream",
          "name": "stdout",
          "text": [
            "[[21 18 15]\n",
            " [51 44 37]\n",
            " [81 70 59]]\n"
          ]
        }
      ]
    },
    {
      "cell_type": "markdown",
      "source": [
        "### Matrix transpose"
      ],
      "metadata": {
        "id": "l366fsKMR-5_"
      }
    },
    {
      "cell_type": "code",
      "source": [
        "M = [[1,2,3],[4,5,6]]\n",
        "\n",
        "rows_M = len(M)\n",
        "cols_M = len(M[0])\n",
        "\n",
        "print(\"The shape of matrix is\",rows_M,'x',cols_M)"
      ],
      "metadata": {
        "colab": {
          "base_uri": "https://localhost:8080/"
        },
        "id": "XIPy-WwTSHqh",
        "outputId": "0eba008b-2336-4e3a-cb4a-777d071d0a3d"
      },
      "execution_count": null,
      "outputs": [
        {
          "output_type": "stream",
          "name": "stdout",
          "text": [
            "The shape of matrix is 2 x 3\n"
          ]
        }
      ]
    },
    {
      "cell_type": "code",
      "source": [
        "#Using loop\n",
        "\n",
        "transpose_loop = [[0 for _ in range(rows_M)] for _ in range(cols_M)]\n",
        "print(transpose_loop)\n",
        "\n",
        "for i in range(cols_M):\n",
        "  for j in range(rows_M):\n",
        "    transpose_loop[i][j] = M[j][i]\n",
        "\n",
        "print(\"Transpose of M using loop:\")\n",
        "for rows in transpose_loop:\n",
        "  print(rows)"
      ],
      "metadata": {
        "colab": {
          "base_uri": "https://localhost:8080/"
        },
        "id": "zyH98AobU-GS",
        "outputId": "730dc2e7-ab06-4a18-ca28-850f9366f56b"
      },
      "execution_count": null,
      "outputs": [
        {
          "output_type": "stream",
          "name": "stdout",
          "text": [
            "[[0, 0], [0, 0], [0, 0]]\n",
            "Transpose of M using loop:\n",
            "[1, 4]\n",
            "[2, 5]\n",
            "[3, 6]\n"
          ]
        }
      ]
    },
    {
      "cell_type": "code",
      "source": [
        "# Using numpy\n",
        "\n",
        "M_np = np.array(M)\n",
        "print(\"Transpose of M using numpy:\")\n",
        "print(M_np.T)"
      ],
      "metadata": {
        "colab": {
          "base_uri": "https://localhost:8080/"
        },
        "id": "BVxmrEVnWQ9b",
        "outputId": "f4024a0a-e76f-4c4b-b62d-5315eeed1087"
      },
      "execution_count": null,
      "outputs": [
        {
          "output_type": "stream",
          "name": "stdout",
          "text": [
            "Transpose of M using numpy:\n",
            "[[1 4]\n",
            " [2 5]\n",
            " [3 6]]\n"
          ]
        }
      ]
    },
    {
      "cell_type": "markdown",
      "source": [
        "# **Matplotlib**"
      ],
      "metadata": {
        "id": "mN0DWkRqdT5i"
      }
    },
    {
      "cell_type": "code",
      "source": [
        "import matplotlib.pyplot as plt"
      ],
      "metadata": {
        "id": "TZg8runZdXxQ"
      },
      "execution_count": null,
      "outputs": []
    },
    {
      "cell_type": "code",
      "source": [
        "x = np.linspace(-5,5,100)\n",
        "y = 1.0/(1+np.exp(-x))\n",
        "\n",
        "plt.plot(x,y)\n",
        "plt.show()"
      ],
      "metadata": {
        "colab": {
          "base_uri": "https://localhost:8080/",
          "height": 430
        },
        "id": "wIJm6JA3dvhz",
        "outputId": "d270ce62-489c-43f3-dc9c-5459a47485bd"
      },
      "execution_count": null,
      "outputs": [
        {
          "output_type": "display_data",
          "data": {
            "text/plain": [
              "<Figure size 640x480 with 1 Axes>"
            ],
            "image/png": "[encoded data removed]"
          },
          "metadata": {}
        }
      ]
    },
    {
      "cell_type": "code",
      "source": [
        "plt.xlabel('x')\n",
        "plt.ylabel('f(x)')\n",
        "plt.plot(x, y, ls='--', lw=2, c= 'red')\n",
        "plt.show()"
      ],
      "metadata": {
        "colab": {
          "base_uri": "https://localhost:8080/",
          "height": 449
        },
        "id": "AEerrFKBflB6",
        "outputId": "a81b770e-aa7a-437b-e890-dd404fcaf430"
      },
      "execution_count": null,
      "outputs": [
        {
          "output_type": "display_data",
          "data": {
            "text/plain": [
              "<Figure size 640x480 with 1 Axes>"
            ],
            "image/png": "[encoded data removed]"
          },
          "metadata": {}
        }
      ]
    },
    {
      "cell_type": "code",
      "source": [
        "x_values = np.arange(0,20,0.001)\n",
        "\n",
        "\n",
        "y1_values = np.sin(x_values * np.pi)\n",
        "y2_values = np.cos(x_values * np.pi)\n",
        "\n",
        "plt.plot(x_values, y1_values, label='Sine')\n",
        "plt.plot(x_values, y2_values, label='Cosine')\n",
        "\n",
        "plt.legend()\n",
        "plt.xlabel('x')\n",
        "plt.ylabel('values')\n",
        "plt.title('Values for sin and cos, scaled by $\\phi_i$')\n",
        "plt.show()"
      ],
      "metadata": {
        "colab": {
          "base_uri": "https://localhost:8080/",
          "height": 474
        },
        "id": "RI3O4iqUh4bj",
        "outputId": "8127f7e3-c9f9-427c-ac7e-a8ab09850c4e"
      },
      "execution_count": null,
      "outputs": [
        {
          "output_type": "display_data",
          "data": {
            "text/plain": [
              "<Figure size 640x480 with 1 Axes>"
            ],
            "image/png": "[encoded data removed]"
          },
          "metadata": {}
        }
      ]
    },
    {
      "cell_type": "code",
      "source": [
        "plt.figure(figsize=(10,10))\n",
        "\n",
        "x = np.arange(0,4,0.01)\n",
        "\n",
        "plt.subplot(221)\n",
        "plt.plot(x, x**0.5*np.exp(-x), lw=2, c='black')\n",
        "\n",
        "plt.subplot(222)\n",
        "plt.plot(x, np.sin(x**2), lw=1, c='blue', marker='o', ms=1)\n",
        "\n",
        "plt.subplot(223)\n",
        "plt.plot(x, x**3, lw = 3, c='red')\n",
        "\n",
        "plt.subplot(224)\n",
        "plt.plot(x,np.log(x**2), lw=1,c='green', marker='o', ms=2)"
      ],
      "metadata": {
        "colab": {
          "base_uri": "https://localhost:8080/",
          "height": 882
        },
        "id": "yHQCYnnJiura",
        "outputId": "0cd1cef0-88b4-411d-e29f-e71eef824944"
      },
      "execution_count": null,
      "outputs": [
        {
          "output_type": "stream",
          "name": "stderr",
          "text": [
            "<ipython-input-77-bfe2ea165769>:15: RuntimeWarning: divide by zero encountered in log\n",
            "  plt.plot(x,np.log(x**2), lw=1,c='green', marker='o', ms=2)\n"
          ]
        },
        {
          "output_type": "execute_result",
          "data": {
            "text/plain": [
              "[<matplotlib.lines.Line2D at 0x7ddbc8d23220>]"
            ]
          },
          "metadata": {},
          "execution_count": 77
        },
        {
          "output_type": "display_data",
          "data": {
            "text/plain": [
              "<Figure size 1000x1000 with 4 Axes>"
            ],
            "image/png": "[encoded data removed]"
          },
          "metadata": {}
        }
      ]
    },
    {
      "cell_type": "markdown",
      "source": [
        "# **Saving and Loading Text Files**"
      ],
      "metadata": {
        "id": "MpilfyFd9_qH"
      }
    },
    {
      "cell_type": "markdown",
      "source": [
        "Sometimes, especially in data analysis, it is useful to save and load NumPy arrays in plain text files like .txt or .csv. NumPy provides functions to handle this as well."
      ],
      "metadata": {
        "id": "akB04ZJt_Img"
      }
    },
    {
      "cell_type": "code",
      "source": [
        "arr = np.array([[1, 2, 3], [4, 5, 6]])\n",
        "np.savetxt('array.txt', arr)"
      ],
      "metadata": {
        "id": "iEFYZ8_A_Ri_"
      },
      "execution_count": null,
      "outputs": []
    },
    {
      "cell_type": "markdown",
      "source": [
        "We can also choose the delimiters (eg: values separated by comma / tab/ space)"
      ],
      "metadata": {
        "id": "W0smrmFZ_6pz"
      }
    },
    {
      "cell_type": "code",
      "source": [
        "np.savetxt('array.csv', arr, delimiter=',')"
      ],
      "metadata": {
        "id": "aP_f6cKM_3Z8"
      },
      "execution_count": null,
      "outputs": []
    },
    {
      "cell_type": "markdown",
      "source": [
        "**Customizing Output Format**: You can control the precision and formatting of the output by specifying a fmt argument:"
      ],
      "metadata": {
        "id": "U4rQGk8jCw6d"
      }
    },
    {
      "cell_type": "code",
      "source": [
        "np.savetxt('array_formatted.txt', arr, fmt='%.2f') #Will save the data in precision upto 2 decimals"
      ],
      "metadata": {
        "id": "jlyR2Rv_C4ku"
      },
      "execution_count": null,
      "outputs": []
    },
    {
      "cell_type": "markdown",
      "source": [
        "# **Loading Text Files with** np.loadtxt() :This function loads data from a text file into a NumPy array."
      ],
      "metadata": {
        "id": "jfA-Ys0iDOX1"
      }
    },
    {
      "cell_type": "code",
      "source": [
        "arr = np.loadtxt('array.txt')\n",
        "print(arr)"
      ],
      "metadata": {
        "id": "sWor7HSqDrzT",
        "outputId": "aa65bef3-7ad9-4ea4-a6d7-5119123bca54",
        "colab": {
          "base_uri": "https://localhost:8080/"
        }
      },
      "execution_count": null,
      "outputs": [
        {
          "output_type": "stream",
          "name": "stdout",
          "text": [
            "[[1. 2. 3.]\n",
            " [4. 5. 6.]]\n"
          ]
        }
      ]
    },
    {
      "cell_type": "markdown",
      "source": [
        "# **F-strings**"
      ],
      "metadata": {
        "id": "7EhGSPXVW9LD"
      }
    },
    {
      "cell_type": "markdown",
      "source": [
        "F-strings (formatted string literals) were introduced in Python 3.6 and have become the most popular way to format strings due to their readability, speed, and versatility. They allow you to embed expressions directly inside string literals using curly braces {}, making it easy to include variables, functions, or expressions inside a string."
      ],
      "metadata": {
        "id": "qH0zRK9nXELu"
      }
    },
    {
      "cell_type": "code",
      "source": [
        "name = \"Alice\"\n",
        "age = 30\n",
        "greeting = f\"Hello, my name is {name} and I am {age} years old.\"\n",
        "print(greeting)\n"
      ],
      "metadata": {
        "colab": {
          "base_uri": "https://localhost:8080/"
        },
        "id": "-UDVkmaEXQD2",
        "outputId": "cd53d09d-5640-4edb-8298-ac9085193a2a"
      },
      "execution_count": null,
      "outputs": [
        {
          "output_type": "stream",
          "name": "stdout",
          "text": [
            "Hello, my name is Alice and I am 30 years old.\n"
          ]
        }
      ]
    },
    {
      "cell_type": "code",
      "source": [
        "width = 5\n",
        "height = 10\n",
        "area = f\"The area of a {width} by {height} rectangle is {width * height}.\"\n",
        "print(area)"
      ],
      "metadata": {
        "colab": {
          "base_uri": "https://localhost:8080/"
        },
        "id": "WQZn2D3fXZI_",
        "outputId": "d6933f31-4da8-4c11-fd97-e4e9e309fc40"
      },
      "execution_count": null,
      "outputs": [
        {
          "output_type": "stream",
          "name": "stdout",
          "text": [
            "The area of a 5 by 10 rectangle is 50.\n"
          ]
        }
      ]
    },
    {
      "cell_type": "markdown",
      "source": [
        "**Using F-Strings for Formatting** :\n",
        "F-strings support advanced formatting options for numbers, dates, or other objects using format specifiers.\n",
        "\n",
        "**Number Formatting**\n",
        "\n",
        "You can control how numbers are displayed, including the number of decimal places, padding, or scientific notation."
      ],
      "metadata": {
        "id": "u5j1nmVuYbPM"
      }
    },
    {
      "cell_type": "code",
      "source": [
        "value = 123.456789\n",
        "formatted = f\"Value up to 2 decimal places: {value:.2f}\"\n",
        "print(formatted)"
      ],
      "metadata": {
        "colab": {
          "base_uri": "https://localhost:8080/"
        },
        "id": "1MGvU7wCa2aZ",
        "outputId": "14884ba0-1a46-479f-e21f-674d1effc67c"
      },
      "execution_count": null,
      "outputs": [
        {
          "output_type": "stream",
          "name": "stdout",
          "text": [
            "Value up to 2 decimal places: 123.46\n"
          ]
        }
      ]
    },
    {
      "cell_type": "code",
      "source": [
        "value = 42\n",
        "formatted = f\"{value:05}\"  # Pads the number with leading zeros to ensure a width of 5\n",
        "print(formatted)\n"
      ],
      "metadata": {
        "colab": {
          "base_uri": "https://localhost:8080/"
        },
        "id": "h25cM4zHa9j-",
        "outputId": "c3ad9055-fa74-4a34-c003-5536ebcbc843"
      },
      "execution_count": null,
      "outputs": [
        {
          "output_type": "stream",
          "name": "stdout",
          "text": [
            "00042\n"
          ]
        }
      ]
    },
    {
      "cell_type": "code",
      "source": [
        "large_number = 1234567890\n",
        "formatted = f\"Formatted with commas: {large_number:,}\"\n",
        "print(formatted)\n"
      ],
      "metadata": {
        "colab": {
          "base_uri": "https://localhost:8080/"
        },
        "id": "r3z89-R3bBbG",
        "outputId": "8f159123-2c79-4193-abda-634d774940e8"
      },
      "execution_count": null,
      "outputs": [
        {
          "output_type": "stream",
          "name": "stdout",
          "text": [
            "Formatted with commas: 1,234,567,890\n"
          ]
        }
      ]
    },
    {
      "cell_type": "code",
      "source": [
        "#Scientific notation\n",
        "\n",
        "value = 0.00001234\n",
        "formatted = f\"Scientific notation: {value:.2e}\"\n",
        "print(formatted)\n"
      ],
      "metadata": {
        "colab": {
          "base_uri": "https://localhost:8080/"
        },
        "id": "ajifWPhTbJpY",
        "outputId": "3149ef70-2dce-4a40-a383-0bb79a4b528f"
      },
      "execution_count": null,
      "outputs": [
        {
          "output_type": "stream",
          "name": "stdout",
          "text": [
            "Scientific notation: 1.23e-05\n"
          ]
        }
      ]
    },
    {
      "cell_type": "markdown",
      "source": [
        "**String Alignment**\n",
        "\n",
        "You can align text inside f-strings using < (left-align), ^ (center-align), or > (right-align) within a specified width."
      ],
      "metadata": {
        "id": "x0gE4U__bYjk"
      }
    },
    {
      "cell_type": "code",
      "source": [
        "text = \"Python\"\n",
        "formatted = f\"|{text:<10}|{text:^10}|{text:>10}|\"\n",
        "print(formatted)\n"
      ],
      "metadata": {
        "colab": {
          "base_uri": "https://localhost:8080/"
        },
        "id": "0BVWSMu1beJo",
        "outputId": "61ee1580-601e-418a-de6e-79408809f618"
      },
      "execution_count": null,
      "outputs": [
        {
          "output_type": "stream",
          "name": "stdout",
          "text": [
            "|Python    |  Python  |    Python|\n"
          ]
        }
      ]
    },
    {
      "cell_type": "code",
      "source": [
        "# Multiline F-string: F-strings can span multiple lines using triple quotes, just like regular strings.\n",
        "\n",
        "name = \"Alice\"\n",
        "age = 30\n",
        "description = f\"\"\"\n",
        "Name: {name}\n",
        "Age: {age}\n",
        "\"\"\"\n",
        "print(description)"
      ],
      "metadata": {
        "colab": {
          "base_uri": "https://localhost:8080/"
        },
        "id": "KPEfPq25bqcL",
        "outputId": "753c8acc-3a89-440e-adcd-097cc94482e7"
      },
      "execution_count": null,
      "outputs": [
        {
          "output_type": "stream",
          "name": "stdout",
          "text": [
            "\n",
            "Name: Alice\n",
            "Age: 30\n",
            "\n"
          ]
        }
      ]
    }
  ]
}